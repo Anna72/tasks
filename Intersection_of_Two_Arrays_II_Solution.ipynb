{
  "nbformat": 4,
  "nbformat_minor": 0,
  "metadata": {
    "colab": {
      "name": "Intersection of Two Arrays II  Solution.ipynb",
      "provenance": [],
      "authorship_tag": "ABX9TyO9LO2FpaniFUasv/a5/FSc",
      "include_colab_link": true
    },
    "kernelspec": {
      "name": "python3",
      "display_name": "Python 3"
    },
    "language_info": {
      "name": "python"
    }
  },
  "cells": [
    {
      "cell_type": "markdown",
      "metadata": {
        "id": "view-in-github",
        "colab_type": "text"
      },
      "source": [
        "<a href=\"https://colab.research.google.com/github/Anna72/tasks/blob/main/Intersection_of_Two_Arrays_II_Solution.ipynb\" target=\"_parent\"><img src=\"https://colab.research.google.com/assets/colab-badge.svg\" alt=\"Open In Colab\"/></a>"
      ]
    },
    {
      "cell_type": "code",
      "metadata": {
        "colab": {
          "base_uri": "https://localhost:8080/"
        },
        "id": "0YfOiWFDnmbX",
        "outputId": "5f4b6f0c-2866-4e88-b6b1-9d746bbb486d"
      },
      "source": [
        "from typing import List\n",
        "nums1 =[4,9,5]\n",
        "nums2 = [9,4,9,8,4]\n",
        "def intersect(self, nums1: List[int], nums2: List[int]) -> List[int]:\n",
        "        nums1.sort()\n",
        "        nums2.sort() \n",
        "        i = 0\n",
        "        while ( i < len(nums1) and i < len(nums2)):\n",
        "            if (nums1[i] == nums2[i]):\n",
        "                i += 1\n",
        "            else: \n",
        "                if (nums1[i] < nums2[i]):\n",
        "                    del nums1[i]\n",
        "                else: \n",
        "                    del nums2[i]           \n",
        "        return(nums1 if len(nums1) < len(nums2) else nums2)\n",
        "intersect(0,nums1,nums2)"
      ],
      "execution_count": 15,
      "outputs": [
        {
          "output_type": "execute_result",
          "data": {
            "text/plain": [
              "[4, 9]"
            ]
          },
          "metadata": {
            "tags": []
          },
          "execution_count": 15
        }
      ]
    }
  ]
}